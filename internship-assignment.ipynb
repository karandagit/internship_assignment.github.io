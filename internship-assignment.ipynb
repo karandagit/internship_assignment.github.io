{
 "cells": [
  {
   "cell_type": "code",
   "execution_count": 1,
   "metadata": {},
   "outputs": [],
   "source": [
    "import bs4\n",
    "import urllib.request as url"
   ]
  },
  {
   "cell_type": "code",
   "execution_count": 2,
   "metadata": {},
   "outputs": [],
   "source": [
    "path = \"https://www.booking.com/searchresults.html?label=gen173rf-1FCAEoggI46AdIM1gDaGyIAQGYATG4ARfIAQzYAQHoAQH4AQKIAgGiAg9pbnRlcm5zaGFsYS5jb22oAgO4AreXrPwFwAIB0gIkYTQ0NjRhMDQtYjY0Zi00YmZhLTkyYWUtOGNkOTEzZGJmMGJh2AIF4AIB&sid=5a082b3ee45fe3206898c8d7bae78c1b&aid=304142&sb=1&sb_lp=1&src_elem=sb&error_url=https%3A%2F%2Fwww.booking.com%2Findex.html%3Flabel%3Dgen173rf-1FCAEoggI46AdIM1gDaGyIAQGYATG4ARfIAQzYAQHoAQH4AQKIAgGiAg9pbnRlcm5zaGFsYS5jb22oAgO4AreXrPwFwAIB0gIkYTQ0NjRhMDQtYjY0Zi00YmZhLTkyYWUtOGNkOTEzZGJmMGJh2AIF4AIB%3Bsid%3D5a082b3ee45fe3206898c8d7bae78c1b%3Bsb_price_type%3Dtotal%26%3B&ss=Goa%2C%20India&is_ski_area=&checkin_year=&checkin_month=&checkout_year=&checkout_month=&group_adults=2&group_children=0&no_rooms=1&b_h4u_keep_filters=&from_sf=1&dest_id=4127&dest_type=region&search_pageview_id=a6c16bdb5ac801ce&search_selected=true&is_popular_nearby=1&order=popularity\""
   ]
  },
  {
   "cell_type": "code",
   "execution_count": 3,
   "metadata": {},
   "outputs": [],
   "source": [
    "res = url.urlopen(path)"
   ]
  },
  {
   "cell_type": "code",
   "execution_count": 4,
   "metadata": {},
   "outputs": [
    {
     "data": {
      "text/plain": [
       "<http.client.HTTPResponse at 0x2233fbe1710>"
      ]
     },
     "execution_count": 4,
     "metadata": {},
     "output_type": "execute_result"
    }
   ],
   "source": [
    "res"
   ]
  },
  {
   "cell_type": "code",
   "execution_count": 5,
   "metadata": {},
   "outputs": [],
   "source": [
    "page = bs4.BeautifulSoup(res)"
   ]
  },
  {
   "cell_type": "code",
   "execution_count": 18,
   "metadata": {},
   "outputs": [],
   "source": [
    "hotel_name = page.find('span',class_='sr-hotel__name')"
   ]
  },
  {
   "cell_type": "code",
   "execution_count": 19,
   "metadata": {},
   "outputs": [
    {
     "data": {
      "text/plain": [
       "'\\nTaj Exotica Resort & Spa, Goa\\n'"
      ]
     },
     "execution_count": 19,
     "metadata": {},
     "output_type": "execute_result"
    }
   ],
   "source": [
    "hotel_name.text"
   ]
  },
  {
   "cell_type": "code",
   "execution_count": 14,
   "metadata": {},
   "outputs": [],
   "source": [
    "review = page.find('div',class_='bui-review-score__title')"
   ]
  },
  {
   "cell_type": "code",
   "execution_count": 15,
   "metadata": {},
   "outputs": [
    {
     "data": {
      "text/plain": [
       "' Awesome '"
      ]
     },
     "execution_count": 15,
     "metadata": {},
     "output_type": "execute_result"
    }
   ],
   "source": [
    "review.text"
   ]
  },
  {
   "cell_type": "code",
   "execution_count": 16,
   "metadata": {},
   "outputs": [],
   "source": [
    "review_score = page.find('div',class_='bui-review-score__badge')"
   ]
  },
  {
   "cell_type": "code",
   "execution_count": 17,
   "metadata": {},
   "outputs": [
    {
     "data": {
      "text/plain": [
       "' 9.3 '"
      ]
     },
     "execution_count": 17,
     "metadata": {},
     "output_type": "execute_result"
    }
   ],
   "source": [
    "review_score.text"
   ]
  },
  {
   "cell_type": "code",
   "execution_count": 20,
   "metadata": {},
   "outputs": [],
   "source": [
    "hotel_description = page.find('div',class_='hotel_desc')"
   ]
  },
  {
   "cell_type": "code",
   "execution_count": 21,
   "metadata": {},
   "outputs": [
    {
     "data": {
      "text/plain": [
       "'\\nSpread across 56 acres of landscaped gardens, the Mediterranean-style Taj Exotica Resort & Spa, Goa sits along a private beach overlooking the Arabian Sea. \\n'"
      ]
     },
     "execution_count": 21,
     "metadata": {},
     "output_type": "execute_result"
    }
   ],
   "source": [
    "hotel_description.text"
   ]
  },
  {
   "cell_type": "code",
   "execution_count": 22,
   "metadata": {},
   "outputs": [],
   "source": [
    "hotel_name = page.find_all('span',class_='sr-hotel__name')\n",
    "review = page.find_all('div',class_='bui-review-score__title')\n",
    "review_score = page.find_all('div',class_='bui-review-score__badge')\n",
    "hotel_description = page.find_all('div',class_='hotel_desc')"
   ]
  },
  {
   "cell_type": "code",
   "execution_count": 24,
   "metadata": {},
   "outputs": [
    {
     "name": "stdout",
     "output_type": "stream",
     "text": [
      "Hotel_Name : \n",
      "Taj Exotica Resort & Spa, Goa\n",
      "\n",
      "Review :  Awesome \n",
      "Review_Score :  9.3 \n",
      "Hotel_Description : \n",
      "Spread across 56 acres of landscaped gardens, the Mediterranean-style Taj Exotica Resort & Spa, Goa sits along a private beach overlooking the Arabian Sea. \n",
      "\n",
      "==============================================================================================================\n",
      "Hotel_Name : \n",
      "The Leela Goa\n",
      "\n",
      "Review :  Awesome \n",
      "Review_Score :  9.2 \n",
      "Hotel_Description : \n",
      "Surrounded by gardens and blue lagoons, The Leela Goa Beach Resort offers luxurious rooms with a DVD player. Facilities include a 12-hole golf course and an outdoor pool. Free Wifi is available. \n",
      "\n",
      "==============================================================================================================\n",
      "Hotel_Name : \n",
      "Taj Fort Aguada Resort & Spa, Goa\n",
      "\n",
      "Review :  Excellent \n",
      "Review_Score :  8.9 \n",
      "Hotel_Description : \n",
      "Overlooking the Arabian Sea, Taj Fort Aguada Resort & Spa, Goa offers luxurious 5-star accommodations spread across 73 acres. \n",
      "\n",
      "==============================================================================================================\n",
      "Hotel_Name : \n",
      "ITC Grand Goa, a Luxury Collection Resort & Spa\n",
      "\n",
      "Review :  Very Good \n",
      "Review_Score :  8.5 \n",
      "Hotel_Description : \n",
      "ITC Grand Goa Resort & Spa is set within 45 acres of landscaped gardens with glimmering waterways and lagoons along the pristine Arossim Beach. \n",
      "\n",
      "==============================================================================================================\n",
      "Hotel_Name : \n",
      "Planet Hollywood Beach Resort Goa\n",
      "\n",
      "Review :  Very Good \n",
      "Review_Score :  8.5 \n",
      "Hotel_Description : \n",
      "Offering an outdoor swimming pool and a fitness center, Planet Hollywood Beach Resort Goa is located on the Uttorda Beach. \n",
      "\n",
      "==============================================================================================================\n",
      "Hotel_Name : \n",
      "Taj Holiday Village Resort & Spa, Goa\n",
      "\n",
      "Review :  Excellent \n",
      "Review_Score :  8.9 \n",
      "Hotel_Description : \n",
      "Taj Holiday Village Resort & Spa, Goa is a beachfront property offering terracotta-roofed cottages spread across 28 acres of beautifully landscaped gardens. \n",
      "\n",
      "==============================================================================================================\n",
      "Hotel_Name : \n",
      "W Goa\n",
      "\n",
      "Review :  Excellent \n",
      "Review_Score :  8.6 \n",
      "Hotel_Description : \n",
      "Offering a spa center and sauna and 24-hour concierge service, W Goa is set in Vagator. Guests can enjoy the outdoor swimming pool or grab a drink at the WooBar. \n",
      "\n",
      "==============================================================================================================\n",
      "Hotel_Name : \n",
      "Caravela Beach Resort\n",
      "\n",
      "Review :  Very Good \n",
      "Review_Score :  8.5 \n",
      "Hotel_Description : \n",
      "Located on Varca beach, Caravela Beach Resort Goa offers beachfront accommodations with private balconies. \n",
      "\n",
      "==============================================================================================================\n",
      "Hotel_Name : \n",
      "Vivanta Goa, Panaji\n",
      "\n",
      "Review :  Awesome \n",
      "Review_Score :  9.2 \n",
      "Hotel_Description : \n",
      "Located in the City Center, the modern Vivanta by Taj Panaji enjoys views of the Mandovi River and Altinho Hills. Providing a rooftop pool, it also has a 24-hour gym and pampering massage at Jiva Spa....\n",
      "\n",
      "==============================================================================================================\n",
      "Hotel_Name : \n",
      "Novotel Goa Resort & Spa\n",
      "\n",
      "Review :  Very Good \n",
      "Review_Score :  8.2 \n",
      "Hotel_Description : \n",
      "Nestled amid lush paddy plantations and hills, the Bali inspired 5 star Novotel Goa Resort & Spa offers an outdoor swimming pool with a sunken bar. \n",
      "\n",
      "==============================================================================================================\n",
      "Hotel_Name : \n",
      "Cidade De Goa - IHCL SeleQtions\n",
      "\n",
      "Review :  Very Good \n",
      "Review_Score :  8.5 \n",
      "Hotel_Description : \n",
      "Sitting on Vainguinim Beach in Panaji, the 5-star Cidade De Goa offers 2 outdoor pools and pampering spa treatments. It is a 5-minute drive from Dona Paula Jetty and Miramar Beach. \n",
      "\n",
      "==============================================================================================================\n",
      "Hotel_Name : \n",
      "Wave Calangute - Hi Hospitality\n",
      "\n",
      "Review :  Very Good \n",
      "Review_Score :  8.3 \n",
      "Hotel_Description : \n",
      "With an outdoor swimming pool and a garden, Wave Calangute Beach Resort, is located in Calangute and provides free WiFi. \n",
      "\n",
      "==============================================================================================================\n",
      "Hotel_Name : \n",
      "Hyatt Centric Candolim Goa\n",
      "\n",
      "Review :  Very Good \n",
      "Review_Score :  8.5 \n",
      "Hotel_Description : \n",
      "Offering a year-round outdoor pool, Hyatt Centric Candolim Goa is set in Candolim in the Goa Region, 1 mi from Calangute. \n",
      "\n",
      "==============================================================================================================\n",
      "Hotel_Name : \n",
      "Holiday Inn Resort Goa\n",
      "\n",
      "Review :  Excellent \n",
      "Review_Score :  8.6 \n",
      "Hotel_Description : \n",
      "Holiday Inn Resort is located in Cavelossim, along Mobor Beach. Surrounded by gardens, it offers a spa, an outdoor pool and a fitness center. Free parking is provided. \n",
      "\n",
      "==============================================================================================================\n",
      "Hotel_Name : \n",
      "Fairfield by Marriott Goa Anjuna\n",
      "\n",
      "Review :  Very Good \n",
      "Review_Score :  8.1 \n",
      "Hotel_Description : \n",
      "Fairfield by Marriott Goa Anjuna is located in Anjuna in the Goa Region. The property offers complimentary shuttle service to Anjuna beaches five times a day. \n",
      "\n",
      "==============================================================================================================\n",
      "Hotel_Name : \n",
      "Leela Cottages\n",
      "\n",
      "Review :  Very Good \n",
      "Review_Score :  8.0 \n",
      "Hotel_Description : \n",
      "Leela Cottages is located in Morjim on Ashvem Beach.  Free WiFi access and spa services are available. The property is a 2-minute walk from Ashvem Beach and 5 mi from Arambol Beach. \n",
      "\n",
      "==============================================================================================================\n",
      "Hotel_Name : \n",
      "Agonda Serenity Resort\n",
      "\n",
      "Review :  Awesome \n",
      "Review_Score :  9.1 \n",
      "Hotel_Description : \n",
      "Located in Agonda, a few steps from Agonda Beach, Agonda Serenity Resort has accommodations with a restaurant, free private parking, a bar and a garden. Free WiFi and a 24-hour front desk are offered....\n",
      "\n",
      "==============================================================================================================\n",
      "Hotel_Name : \n",
      "Heritage Village Resort & Spa Goa\n",
      "\n",
      "Review :  Excellent \n",
      "Review_Score :  8.6 \n",
      "Hotel_Description : \n",
      "The Heritage Village Resort & Spa Goa is nestled along the pristine white sands of Arossim Beach.The property features a traditional Indian spa. \n",
      "\n",
      "==============================================================================================================\n",
      "Hotel_Name : \n",
      "FabHotel Prime The King's Court\n",
      "\n",
      "Review :  Good \n",
      "Review_Score :  7.9 \n",
      "Hotel_Description : \n",
      "Located in Calangute, a 12-minute walk from Calangute Beach, FabHotel Prime The King's Court provides accommodations with a restaurant, free private parking and a bar. \n",
      "\n",
      "==============================================================================================================\n",
      "Hotel_Name : \n",
      "Little India Beach Cottages\n",
      "\n",
      "Review :  Excellent \n",
      "Review_Score :  8.6 \n",
      "Hotel_Description : \n",
      "Located at a walking distance of 1-minute from Calangute Beach and Baga Beach, Little India Beach Cottages is located in Baga. The property offers free parking. \n",
      "\n",
      "==============================================================================================================\n",
      "Hotel_Name : \n",
      "Novotel Goa Dona Sylvia Resort\n",
      "\n",
      "Review :  Very Good \n",
      "Review_Score :  8.5 \n",
      "Hotel_Description : \n",
      "Set amid landscaped gardens, Dona Sylvia Beach Resort is a 5-minute walk from Cavelossim Beach. It features an outdoor pool, dining options and nonsmoking rooms with a private balcony. \n",
      "\n",
      "==============================================================================================================\n",
      "Hotel_Name : \n",
      "ibis Styles Goa Calangute - An AccorHotels Brand\n",
      "\n",
      "Review :  Very Good \n",
      "Review_Score :  8.2 \n",
      "Hotel_Description : \n",
      "Located 1640 feet from the beautiful Tivai Beach and 1.6 mi from Calangute beach, the colorful ibis Styles Goa Calangute offers 2 outdoor swimming pools, one kid's pool and a fitness center. \n",
      "\n",
      "==============================================================================================================\n",
      "Hotel_Name : \n",
      "Blue Lagoon Resort Goa\n",
      "\n",
      "Review :  Very Good \n",
      "Review_Score :  8.2 \n",
      "Hotel_Description : \n",
      "Featuring free WiFi throughout the property, Blue Lagoon Resort Goa, a beachfront property offers accommodations on Cola Beach. Guests can enjoy the on-site bar. \n",
      "\n",
      "==============================================================================================================\n",
      "Hotel_Name : \n",
      "Chalston Beach Resort\n",
      "\n",
      "Review :  Very Good \n",
      "Review_Score :  8.5 \n",
      "Hotel_Description : \n",
      "Featuring an outdoor swimming pool, the beachfront Chalston Beach Resort is on beautiful Calangute Beach. Free Wi-Fi access is available in the public areas of this resort. \n",
      "\n",
      "==============================================================================================================\n",
      "Hotel_Name : \n",
      "La Cabana Beach & Spa\n",
      "\n",
      "Review :  Good \n",
      "Review_Score :  7.3 \n",
      "Hotel_Description : \n",
      "Located on the shores of Ashwem Beach, La Cabana Beach & Spa features an outdoor swimming pool, a 24-hour front desk and lush green gardens. \n",
      "\n",
      "==============================================================================================================\n"
     ]
    }
   ],
   "source": [
    "for i in range(len(hotel_name)):\n",
    "    print(\"Hotel_Name :\", hotel_name[i].text)\n",
    "    print(\"Review :\",review[i].text)\n",
    "    print(\"Review_Score :\",review_score[i].text)\n",
    "    print(\"Hotel_Description :\",hotel_description[i].text)\n",
    "    print(\"==============================================================================================================\")"
   ]
  },
  {
   "cell_type": "code",
   "execution_count": 29,
   "metadata": {},
   "outputs": [],
   "source": [
    "data = {\"hotel_name\":[],\"review\":[],\"review_score\":[],\"hotel_description\":[]}\n",
    "for i in range(len(hotel_name)):\n",
    "    data[\"hotel_name\"].append(hotel_name[i].text)\n",
    "    data[\"review\"].append(review[i].text)\n",
    "    data[\"review_score\"].append(float(review_score[i].text))\n",
    "    data[\"hotel_description\"].append(hotel_description[i].text)"
   ]
  },
  {
   "cell_type": "code",
   "execution_count": 27,
   "metadata": {},
   "outputs": [],
   "source": [
    "import pandas as pd"
   ]
  },
  {
   "cell_type": "code",
   "execution_count": 30,
   "metadata": {},
   "outputs": [],
   "source": [
    "df = pd.DataFrame(data)"
   ]
  },
  {
   "cell_type": "code",
   "execution_count": 32,
   "metadata": {},
   "outputs": [
    {
     "data": {
      "text/html": [
       "<div>\n",
       "<style scoped>\n",
       "    .dataframe tbody tr th:only-of-type {\n",
       "        vertical-align: middle;\n",
       "    }\n",
       "\n",
       "    .dataframe tbody tr th {\n",
       "        vertical-align: top;\n",
       "    }\n",
       "\n",
       "    .dataframe thead th {\n",
       "        text-align: right;\n",
       "    }\n",
       "</style>\n",
       "<table border=\"1\" class=\"dataframe\">\n",
       "  <thead>\n",
       "    <tr style=\"text-align: right;\">\n",
       "      <th></th>\n",
       "      <th>hotel_name</th>\n",
       "      <th>review</th>\n",
       "      <th>review_score</th>\n",
       "      <th>hotel_description</th>\n",
       "    </tr>\n",
       "  </thead>\n",
       "  <tbody>\n",
       "    <tr>\n",
       "      <th>0</th>\n",
       "      <td>\\nTaj Exotica Resort &amp; Spa, Goa\\n</td>\n",
       "      <td>Awesome</td>\n",
       "      <td>9.3</td>\n",
       "      <td>\\nSpread across 56 acres of landscaped gardens...</td>\n",
       "    </tr>\n",
       "    <tr>\n",
       "      <th>1</th>\n",
       "      <td>\\nThe Leela Goa\\n</td>\n",
       "      <td>Awesome</td>\n",
       "      <td>9.2</td>\n",
       "      <td>\\nSurrounded by gardens and blue lagoons, The ...</td>\n",
       "    </tr>\n",
       "    <tr>\n",
       "      <th>2</th>\n",
       "      <td>\\nTaj Fort Aguada Resort &amp; Spa, Goa\\n</td>\n",
       "      <td>Excellent</td>\n",
       "      <td>8.9</td>\n",
       "      <td>\\nOverlooking the Arabian Sea, Taj Fort Aguada...</td>\n",
       "    </tr>\n",
       "    <tr>\n",
       "      <th>3</th>\n",
       "      <td>\\nITC Grand Goa, a Luxury Collection Resort &amp; ...</td>\n",
       "      <td>Very Good</td>\n",
       "      <td>8.5</td>\n",
       "      <td>\\nITC Grand Goa Resort &amp; Spa is set within 45 ...</td>\n",
       "    </tr>\n",
       "    <tr>\n",
       "      <th>4</th>\n",
       "      <td>\\nPlanet Hollywood Beach Resort Goa\\n</td>\n",
       "      <td>Very Good</td>\n",
       "      <td>8.5</td>\n",
       "      <td>\\nOffering an outdoor swimming pool and a fitn...</td>\n",
       "    </tr>\n",
       "    <tr>\n",
       "      <th>5</th>\n",
       "      <td>\\nTaj Holiday Village Resort &amp; Spa, Goa\\n</td>\n",
       "      <td>Excellent</td>\n",
       "      <td>8.9</td>\n",
       "      <td>\\nTaj Holiday Village Resort &amp; Spa, Goa is a b...</td>\n",
       "    </tr>\n",
       "    <tr>\n",
       "      <th>6</th>\n",
       "      <td>\\nW Goa\\n</td>\n",
       "      <td>Excellent</td>\n",
       "      <td>8.6</td>\n",
       "      <td>\\nOffering a spa center and sauna and 24-hour ...</td>\n",
       "    </tr>\n",
       "    <tr>\n",
       "      <th>7</th>\n",
       "      <td>\\nCaravela Beach Resort\\n</td>\n",
       "      <td>Very Good</td>\n",
       "      <td>8.5</td>\n",
       "      <td>\\nLocated on Varca beach, Caravela Beach Resor...</td>\n",
       "    </tr>\n",
       "    <tr>\n",
       "      <th>8</th>\n",
       "      <td>\\nVivanta Goa, Panaji\\n</td>\n",
       "      <td>Awesome</td>\n",
       "      <td>9.2</td>\n",
       "      <td>\\nLocated in the City Center, the modern Vivan...</td>\n",
       "    </tr>\n",
       "    <tr>\n",
       "      <th>9</th>\n",
       "      <td>\\nNovotel Goa Resort &amp; Spa\\n</td>\n",
       "      <td>Very Good</td>\n",
       "      <td>8.2</td>\n",
       "      <td>\\nNestled amid lush paddy plantations and hill...</td>\n",
       "    </tr>\n",
       "  </tbody>\n",
       "</table>\n",
       "</div>"
      ],
      "text/plain": [
       "                                          hotel_name       review  \\\n",
       "0                  \\nTaj Exotica Resort & Spa, Goa\\n     Awesome    \n",
       "1                                  \\nThe Leela Goa\\n     Awesome    \n",
       "2              \\nTaj Fort Aguada Resort & Spa, Goa\\n   Excellent    \n",
       "3  \\nITC Grand Goa, a Luxury Collection Resort & ...   Very Good    \n",
       "4              \\nPlanet Hollywood Beach Resort Goa\\n   Very Good    \n",
       "5          \\nTaj Holiday Village Resort & Spa, Goa\\n   Excellent    \n",
       "6                                          \\nW Goa\\n   Excellent    \n",
       "7                          \\nCaravela Beach Resort\\n   Very Good    \n",
       "8                            \\nVivanta Goa, Panaji\\n     Awesome    \n",
       "9                       \\nNovotel Goa Resort & Spa\\n   Very Good    \n",
       "\n",
       "   review_score                                  hotel_description  \n",
       "0           9.3  \\nSpread across 56 acres of landscaped gardens...  \n",
       "1           9.2  \\nSurrounded by gardens and blue lagoons, The ...  \n",
       "2           8.9  \\nOverlooking the Arabian Sea, Taj Fort Aguada...  \n",
       "3           8.5  \\nITC Grand Goa Resort & Spa is set within 45 ...  \n",
       "4           8.5  \\nOffering an outdoor swimming pool and a fitn...  \n",
       "5           8.9  \\nTaj Holiday Village Resort & Spa, Goa is a b...  \n",
       "6           8.6  \\nOffering a spa center and sauna and 24-hour ...  \n",
       "7           8.5  \\nLocated on Varca beach, Caravela Beach Resor...  \n",
       "8           9.2  \\nLocated in the City Center, the modern Vivan...  \n",
       "9           8.2  \\nNestled amid lush paddy plantations and hill...  "
      ]
     },
     "execution_count": 32,
     "metadata": {},
     "output_type": "execute_result"
    }
   ],
   "source": [
    "df.head(10)"
   ]
  },
  {
   "cell_type": "code",
   "execution_count": null,
   "metadata": {},
   "outputs": [],
   "source": []
  }
 ],
 "metadata": {
  "kernelspec": {
   "display_name": "Python 3",
   "language": "python",
   "name": "python3"
  },
  "language_info": {
   "codemirror_mode": {
    "name": "ipython",
    "version": 3
   },
   "file_extension": ".py",
   "mimetype": "text/x-python",
   "name": "python",
   "nbconvert_exporter": "python",
   "pygments_lexer": "ipython3",
   "version": "3.7.1"
  }
 },
 "nbformat": 4,
 "nbformat_minor": 2
}
